{
 "cells": [
  {
   "cell_type": "markdown",
   "metadata": {},
   "source": [
    "# Echo State Network as a tunable frequency generator\n",
    "\n",
    "This is a simplified implementation of Herbert Jaeger's task of learning a simple non-autonomous system, [a frequency generator controlled by an external signal](http://www.scholarpedia.org/article/Echo_state_network). Plots at the end.\n",
    "\n",
    "[See the ESN implementation](https://github.com/cknd/pyESN).\n"
   ]
  },
  {
   "cell_type": "code",
   "execution_count": 1,
   "metadata": {
    "collapsed": false,
    "jupyter": {
     "outputs_hidden": false
    }
   },
   "outputs": [],
   "source": [
    "import numpy as np\n",
    "from matplotlib import pyplot as plt\n",
    "%matplotlib inline\n",
    "from pyESN import ESN\n",
    "from sklearn.model_selection import train_test_split\n",
    "from Loader import Loader"
   ]
  },
  {
   "cell_type": "code",
   "execution_count": 2,
   "metadata": {},
   "outputs": [],
   "source": [
    "random_state = 42"
   ]
  },
  {
   "cell_type": "code",
   "execution_count": 4,
   "metadata": {},
   "outputs": [],
   "source": [
    "import torch as t"
   ]
  },
  {
   "cell_type": "code",
   "execution_count": 5,
   "metadata": {},
   "outputs": [
    {
     "data": {
      "text/plain": [
       "<module 'torch' from '/home/kerwick.a/KFold_Neural_Operator/.pytorch_venv/lib/python3.9/site-packages/torch/__init__.py'>"
      ]
     },
     "execution_count": 5,
     "metadata": {},
     "output_type": "execute_result"
    }
   ],
   "source": [
    "t"
   ]
  },
  {
   "cell_type": "markdown",
   "metadata": {},
   "source": [
    "## Task\n",
    "\n",
    "The network will learn to generate a wave signal whose frequency is determined by some slowly changing control input.\n",
    "\n",
    "#### 1) Generate some sample data:\n"
   ]
  },
  {
   "cell_type": "code",
   "execution_count": 8,
   "metadata": {},
   "outputs": [],
   "source": [
    "threshold = 1000\n",
    "def get_mask(u, y):\n",
    "    u_tensor = torch.tensor(u)\n",
    "    y_tensor = torch.tensor(y)\n",
    "\n",
    "    # Identify indices with NaNs\n",
    "    nan_mask = torch.isnan(u_tensor).any(dim=(1, 2)) | torch.isnan(y_tensor).any(dim=(1, 2))\n",
    "    nan_samples_count = nan_mask.sum().item()\n",
    "\n",
    "    # Identify indices where max y exceeds threshold\n",
    "    max_y_values = y_tensor.max(dim=2).values.max(dim=1).values\n",
    "    threshold_mask = max_y_values <= threshold\n",
    "    large_samples_count = (~threshold_mask).sum().item()\n",
    "\n",
    "    # Combine masks\n",
    "    valid_mask = ~nan_mask & threshold_mask\n",
    "    return valid_mask, nan_samples_count, large_samples_count"
   ]
  },
  {
   "cell_type": "code",
   "execution_count": 25,
   "metadata": {},
   "outputs": [
    {
     "name": "stdout",
     "output_type": "stream",
     "text": [
      "Loader successfully mounted to the directory: ../NIEMRE_Feb20_2025/Hodgkin_Huxley/data/\n",
      "Metadata successfully mounted to: ../NIEMRE_Feb20_2025/Hodgkin_Huxley/data/metadata\n",
      "Total samples before filtering: 330\n",
      "Samples containing NaN: 0\n",
      "Samples exceeding threshold 1000: 0\n",
      "Total samples after filtering: 330\n"
     ]
    }
   ],
   "source": [
    "datapath = '../NIEMRE_Feb20_2025/Hodgkin_Huxley/data/'\n",
    "loader = Loader()\n",
    "loader.mount(datapath)\n",
    "A_list = [i for i in range(20, 150, 30)]\n",
    "fc_list = [i for i in range(10, 1100, 100)]\n",
    "fm_list = [i for i in range(10, 61, 10)]\n",
    "data = loader.load_db(\n",
    "            A_list=A_list,\n",
    "            fc_list=fc_list,\n",
    "            fm_list=fm_list\n",
    "        )\n",
    "u, y = data[0], data[1]\n",
    "\n",
    "total_samples = u.shape[0]\n",
    "mask, nan_samples_count, large_samples_count = get_mask(u, y)\n",
    "\n",
    "print(f'Total samples before filtering: {total_samples}')\n",
    "print(f'Samples containing NaN: {nan_samples_count}')\n",
    "print(f'Samples exceeding threshold {threshold}: {large_samples_count}')\n",
    "\n",
    "# Apply mask\n",
    "u, y = u[mask.numpy()], y[mask.numpy()]\n",
    "\n",
    "# Recalculate after filtering\n",
    "total_samples_after = u.shape[0]\n",
    "\n",
    "print(f'Total samples after filtering: {total_samples_after}')"
   ]
  },
  {
   "cell_type": "code",
   "execution_count": 26,
   "metadata": {},
   "outputs": [
    {
     "data": {
      "text/plain": [
       "(330, 4, 5000)"
      ]
     },
     "execution_count": 26,
     "metadata": {},
     "output_type": "execute_result"
    }
   ],
   "source": [
    "u.shape"
   ]
  },
  {
   "cell_type": "code",
   "execution_count": 27,
   "metadata": {},
   "outputs": [],
   "source": [
    "u = u[0].T\n",
    "y = y[0].T"
   ]
  },
  {
   "cell_type": "code",
   "execution_count": 28,
   "metadata": {},
   "outputs": [
    {
     "data": {
      "text/plain": [
       "(5000, 4)"
      ]
     },
     "execution_count": 28,
     "metadata": {},
     "output_type": "execute_result"
    }
   ],
   "source": [
    "u.shape"
   ]
  },
  {
   "cell_type": "code",
   "execution_count": 29,
   "metadata": {},
   "outputs": [],
   "source": [
    "u_train = u[:4000]\n",
    "u_test = u[4000:]\n",
    "y_train = y[:4000]\n",
    "y_test = y[4000:]"
   ]
  },
  {
   "cell_type": "code",
   "execution_count": 10,
   "metadata": {},
   "outputs": [],
   "source": [
    "u_train,u_test, y_train, y_test = train_test_split(\n",
    "    u, y, test_size=0.3, random_state=random_state)"
   ]
  },
  {
   "cell_type": "code",
   "execution_count": null,
   "metadata": {
    "collapsed": false,
    "jupyter": {
     "outputs_hidden": false
    }
   },
   "outputs": [],
   "source": [
    "rng = np.random.RandomState(42)\n",
    "def frequency_generator(N,min_period,max_period,n_changepoints):\n",
    "    \"\"\"returns a random step function with N changepoints\n",
    "       and a sine wave signal that changes its frequency at\n",
    "       each such step, in the limits given by min_ and max_period.\"\"\"\n",
    "    # vector of random indices < N, padded with 0 and N at the ends:\n",
    "    changepoints = np.insert(np.sort(rng.randint(0,N,n_changepoints)),[0,n_changepoints],[0,N])\n",
    "    # list of interval boundaries between which the control sequence should be constant:\n",
    "    const_intervals = list(zip(changepoints,np.roll(changepoints,-1)))[:-1]\n",
    "    # populate a control sequence\n",
    "    frequency_control = np.zeros((N,1))\n",
    "    for (t0,t1) in const_intervals:\n",
    "        frequency_control[t0:t1] = rng.rand()\n",
    "    periods = frequency_control * (max_period - min_period) + max_period\n",
    "    # run time through a sine, while changing the period length\n",
    "    frequency_output = np.zeros((N,1))\n",
    "    z = 0\n",
    "    for i in range(N):\n",
    "        z = z + 2 * np.pi / periods[i]\n",
    "        frequency_output[i] = (np.sin(z) + 1)/2\n",
    "    return np.hstack([np.ones((N,1)),1-frequency_control]),frequency_output\n",
    "\n",
    "\n",
    "N = 15000 # signal length\n",
    "min_period = 2\n",
    "max_period = 10\n",
    "n_changepoints = int(N/200)\n",
    "frequency_control,frequency_output = frequency_generator(N,min_period,max_period,n_changepoints)\n",
    "\n",
    "traintest_cutoff = int(np.ceil(0.7*N))\n",
    "\n",
    "train_ctrl,train_output = frequency_control[:traintest_cutoff],frequency_output[:traintest_cutoff]\n",
    "test_ctrl, test_output  = frequency_control[traintest_cutoff:],frequency_output[traintest_cutoff:]"
   ]
  },
  {
   "cell_type": "markdown",
   "metadata": {},
   "source": [
    "#### 2) Instantiate, train & test the network\n",
    "Parameters are mostly the same as in Herbert Jaeger's original Matlab code. "
   ]
  },
  {
   "cell_type": "code",
   "execution_count": 30,
   "metadata": {},
   "outputs": [
    {
     "data": {
      "text/plain": [
       "(4000, 4)"
      ]
     },
     "execution_count": 30,
     "metadata": {},
     "output_type": "execute_result"
    }
   ],
   "source": [
    "u_train.shape"
   ]
  },
  {
   "cell_type": "code",
   "execution_count": 14,
   "metadata": {},
   "outputs": [
    {
     "data": {
      "text/plain": [
       "(4, 5000)"
      ]
     },
     "execution_count": 14,
     "metadata": {},
     "output_type": "execute_result"
    }
   ],
   "source": [
    "u_train.shape[1:]"
   ]
  },
  {
   "cell_type": "code",
   "execution_count": 32,
   "metadata": {
    "collapsed": false,
    "jupyter": {
     "outputs_hidden": false
    }
   },
   "outputs": [
    {
     "name": "stdout",
     "output_type": "stream",
     "text": [
      "harvesting states...\n",
      "fitting...\n",
      "training error:\n",
      "1.0007063981488165\n",
      "test error:\n",
      "402.6350805767292\n"
     ]
    }
   ],
   "source": [
    "esn = ESN(n_inputs = u.shape[1],\n",
    "          n_outputs = y.shape[1],\n",
    "          n_reservoir = 200,\n",
    "          spectral_radius = 0.25,\n",
    "          sparsity = 0.95,\n",
    "          noise = 0.001,\n",
    "#           input_shift = [0,0],\n",
    "#           input_scaling = [0.01, 3],\n",
    "#           teacher_scaling = 1.12,\n",
    "#           teacher_shift = -0.7,\n",
    "          #out_activation = np.tanh,\n",
    "          #inverse_out_activation = np.arctanh,\n",
    "          random_state = random_state,\n",
    "          silent = False)\n",
    "\n",
    "pred_train = esn.fit(u_train,y_train)\n",
    "\n",
    "print(\"test error:\")\n",
    "pred_test = esn.predict(u_test)\n",
    "print(np.sqrt(np.mean((pred_test - y_test)**2)))"
   ]
  },
  {
   "cell_type": "markdown",
   "metadata": {},
   "source": [
    "#### 3) Plots\n",
    "First, a look at the control signal, the target signal and the output of the model both during training and during testing."
   ]
  },
  {
   "cell_type": "code",
   "execution_count": 35,
   "metadata": {},
   "outputs": [
    {
     "data": {
      "image/png": "[encoded data removed]",
      "text/plain": [
       "<Figure size 1000x150 with 1 Axes>"
      ]
     },
     "metadata": {},
     "output_type": "display_data"
    },
    {
     "data": {
      "image/png": "[encoded data removed]",
      "text/plain": [
       "<Figure size 1000x150 with 1 Axes>"
      ]
     },
     "metadata": {},
     "output_type": "display_data"
    }
   ],
   "source": [
    "window_tr = range(int(len(y_train)/4),int(len(y_train)/4+2000))\n",
    "plt.figure(figsize=(10,1.5))\n",
    "plt.plot(u_train[window_tr,1],label='control')\n",
    "plt.plot(y_train[window_tr],label='target')\n",
    "plt.plot(pred_train[window_tr],label='model')\n",
    "plt.legend(fontsize='x-small')\n",
    "plt.title('training (excerpt)')\n",
    "plt.ylim([-0.1,1.1])\n",
    "plt.show()\n",
    "\n",
    "window_test = range(1000)\n",
    "plt.figure(figsize=(10,1.5))\n",
    "plt.plot(u_test[window_test,1],label='control')\n",
    "plt.plot(y_test[window_test],label='target')\n",
    "plt.plot(pred_test[window_test],label='model')\n",
    "plt.legend(fontsize='x-small')\n",
    "plt.title('test (excerpt)')\n",
    "plt.ylim([-0.1,1.1]);\n",
    "plt.show()"
   ]
  },
  {
   "cell_type": "code",
   "execution_count": null,
   "metadata": {
    "collapsed": false,
    "jupyter": {
     "outputs_hidden": false
    }
   },
   "outputs": [],
   "source": [
    "window_tr = range(int(len(train_output)/4),int(len(train_output)/4+2000))\n",
    "plt.figure(figsize=(10,1.5))\n",
    "plt.plot(train_ctrl[window_tr,1],label='control')\n",
    "plt.plot(train_output[window_tr],label='target')\n",
    "plt.plot(pred_train[window_tr],label='model')\n",
    "plt.legend(fontsize='x-small')\n",
    "plt.title('training (excerpt)')\n",
    "plt.ylim([-0.1,1.1])\n",
    "plt.show()\n",
    "\n",
    "window_test = range(2000)\n",
    "plt.figure(figsize=(10,1.5))\n",
    "plt.plot(test_ctrl[window_test,1],label='control')\n",
    "plt.plot(test_output[window_test],label='target')\n",
    "plt.plot(pred_test[window_test],label='model')\n",
    "plt.legend(fontsize='x-small')\n",
    "plt.title('test (excerpt)')\n",
    "plt.ylim([-0.1,1.1]);\n",
    "plt.show()"
   ]
  },
  {
   "cell_type": "markdown",
   "metadata": {},
   "source": [
    "What we see is that we can't see much, except that the amplitude is systematically too small (any ideas why that is?).\n",
    "\n",
    "So let's look at a few spectrograms to see how the frequency spectrum of these signals changes over time."
   ]
  },
  {
   "cell_type": "code",
   "execution_count": 36,
   "metadata": {
    "collapsed": false,
    "jupyter": {
     "outputs_hidden": false
    }
   },
   "outputs": [
    {
     "data": {
      "image/png": "[encoded data removed]",
      "text/plain": [
       "<Figure size 700x150 with 1 Axes>"
      ]
     },
     "metadata": {},
     "output_type": "display_data"
    },
    {
     "data": {
      "image/png": "[encoded data removed]",
      "text/plain": [
       "<Figure size 700x150 with 1 Axes>"
      ]
     },
     "metadata": {},
     "output_type": "display_data"
    },
    {
     "data": {
      "image/png": "[encoded data removed]",
      "text/plain": [
       "<Figure size 300x150 with 1 Axes>"
      ]
     },
     "metadata": {},
     "output_type": "display_data"
    },
    {
     "data": {
      "image/png": "[encoded data removed]",
      "text/plain": [
       "<Figure size 300x150 with 1 Axes>"
      ]
     },
     "metadata": {},
     "output_type": "display_data"
    }
   ],
   "source": [
    "def draw_spectogram(data):\n",
    "    plt.specgram(data,Fs=4,NFFT=256,noverlap=150,cmap=plt.cm.bone,detrend=lambda x:(x-0.5))\n",
    "    plt.gca().autoscale('x')\n",
    "    plt.ylim([0,0.5])\n",
    "    plt.ylabel(\"freq\")\n",
    "    plt.yticks([])\n",
    "    plt.xlabel(\"time\")\n",
    "    plt.xticks([])\n",
    "\n",
    "plt.figure(figsize=(7,1.5))\n",
    "draw_spectogram(y_train.flatten())\n",
    "plt.title(\"training: target\")\n",
    "plt.show()\n",
    "plt.figure(figsize=(7,1.5))\n",
    "draw_spectogram(pred_train.flatten())\n",
    "plt.title(\"training: model\")\n",
    "plt.show()\n",
    "\n",
    "plt.figure(figsize=(3,1.5))\n",
    "draw_spectogram(y_test.flatten())\n",
    "plt.title(\"test: target\")\n",
    "plt.show()\n",
    "plt.figure(figsize=(3,1.5))\n",
    "draw_spectogram(pred_test.flatten())\n",
    "plt.title(\"test: model\")\n",
    "plt.show()"
   ]
  },
  {
   "cell_type": "markdown",
   "metadata": {},
   "source": [
    "It's a frequency generator!"
   ]
  },
  {
   "cell_type": "code",
   "execution_count": null,
   "metadata": {},
   "outputs": [],
   "source": []
  }
 ],
 "metadata": {
  "kernelspec": {
   "display_name": "Python (pytorch_venv)",
   "language": "python",
   "name": "pytorch_venv"
  },
  "language_info": {
   "codemirror_mode": {
    "name": "ipython",
    "version": 3
   },
   "file_extension": ".py",
   "mimetype": "text/x-python",
   "name": "python",
   "nbconvert_exporter": "python",
   "pygments_lexer": "ipython3",
   "version": "3.9.12"
  }
 },
 "nbformat": 4,
 "nbformat_minor": 4
}
